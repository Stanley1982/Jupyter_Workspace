{
 "cells": [
  {
   "cell_type": "markdown",
   "metadata": {},
   "source": [
    "# Concept"
   ]
  },
  {
   "cell_type": "markdown",
   "metadata": {},
   "source": [
    "residual\n",
    "\n",
    "$ e_i = y_i - \\hat{y_i} $"
   ]
  },
  {
   "cell_type": "markdown",
   "metadata": {},
   "source": [
    "RSS: residual sum of squares\n",
    "\n",
    "$ RSS = {e_1}^2 + {e_2}^2 + ... + {e_n}^2 $"
   ]
  },
  {
   "cell_type": "markdown",
   "metadata": {},
   "source": [
    "SE: standard error\n",
    "\n",
    "$ Var(\\hat{\\mu}) = SE(\\hat{\\mu}) = \\cfrac{{\\sigma}^2}{n} $"
   ]
  },
  {
   "cell_type": "markdown",
   "metadata": {},
   "source": [
    "RSE : residual standard error\n",
    "\n",
    "$ RSE = \\sqrt{RSS/(n-2)}$"
   ]
  },
  {
   "cell_type": "markdown",
   "metadata": {},
   "source": [
    "confidence interval"
   ]
  },
  {
   "cell_type": "markdown",
   "metadata": {},
   "source": [
    "TSS: total sum of squares\n",
    "\n",
    "$ TSS = \\sum(y_i - \\bar{y})^2$"
   ]
  },
  {
   "cell_type": "markdown",
   "metadata": {},
   "source": [
    "$ R^2 = \\cfrac {TSS - RSS}{TSS} = 1 - \\cfrac {RSS}{TSS} $"
   ]
  },
  {
   "cell_type": "markdown",
   "metadata": {},
   "source": [
    "$R^2$ close to 1 indicates that a large proportion of the variability in the response has been explainded by the regression"
   ]
  },
  {
   "cell_type": "markdown",
   "metadata": {},
   "source": [
    "correlation\n",
    "\n",
    "$Cor(X,Y) = \\cfrac{\\sum_{i=1}^n(x_i - \\hat{x})(y_i - \\hat{y})}{\\sqrt{\\sum_{i=1}^n(x_i - \\hat{x})^2} \\sqrt{\\sum_{i=1}^n(y_i-\\hat{y})^2}}$"
   ]
  },
  {
   "cell_type": "markdown",
   "metadata": {},
   "source": [
    "F-statistic\n",
    "\n",
    "$ F = \\cfrac {(TSS-RSS)/p}{RSS/(n-p-1)}$\n"
   ]
  },
  {
   "cell_type": "code",
   "execution_count": null,
   "metadata": {},
   "outputs": [],
   "source": [
    "r = 2"
   ]
  },
  {
   "cell_type": "code",
   "execution_count": null,
   "metadata": {},
   "outputs": [],
   "source": []
  }
 ],
 "metadata": {
  "kernelspec": {
   "display_name": "R",
   "language": "R",
   "name": "ir"
  },
  "language_info": {
   "codemirror_mode": "r",
   "file_extension": ".r",
   "mimetype": "text/x-r-source",
   "name": "R",
   "pygments_lexer": "r",
   "version": "3.5.1"
  },
  "toc": {
   "base_numbering": 1,
   "nav_menu": {},
   "number_sections": true,
   "sideBar": true,
   "skip_h1_title": false,
   "title_cell": "Table of Contents",
   "title_sidebar": "Contents",
   "toc_cell": false,
   "toc_position": {},
   "toc_section_display": true,
   "toc_window_display": false
  }
 },
 "nbformat": 4,
 "nbformat_minor": 2
}
