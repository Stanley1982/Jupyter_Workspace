{
 "cells": [
  {
   "cell_type": "markdown",
   "metadata": {},
   "source": [
    "# Frame Import"
   ]
  },
  {
   "cell_type": "code",
   "execution_count": 1,
   "metadata": {},
   "outputs": [],
   "source": [
    "import numpy as np\n",
    "import pandas as pd\n",
    "import progressbar\n",
    "\n",
    "import matplotlib.pyplot as plt\n",
    "from statsmodels.stats.weightstats import ttest_ind\n",
    "\n",
    "\n",
    "colors = ['#348ABD', '#A60628', '#7A68A6', '#467821', '#D55E00', \n",
    "          '#CC79A7', '#56B4E9', '#009E73', '#F0E442', '#0072B2']\n",
    "\n",
    "%matplotlib inline\n"
   ]
  },
  {
   "cell_type": "markdown",
   "metadata": {},
   "source": [
    "# Make fake data"
   ]
  },
  {
   "cell_type": "code",
   "execution_count": 80,
   "metadata": {},
   "outputs": [],
   "source": [
    "mu, sigma = 2, 3 # mean and standard deviation"
   ]
  },
  {
   "cell_type": "code",
   "execution_count": 81,
   "metadata": {},
   "outputs": [],
   "source": [
    "days = 100"
   ]
  },
  {
   "cell_type": "code",
   "execution_count": 82,
   "metadata": {},
   "outputs": [],
   "source": [
    "dti = pd.date_range('2019-01-01', periods=days*24*60*60, freq='s')\n",
    "dt_hour = pd.date_range('2019-01-01', periods=days*24+1, freq='1h')"
   ]
  },
  {
   "cell_type": "code",
   "execution_count": 83,
   "metadata": {},
   "outputs": [],
   "source": [
    "s = abs(np.random.normal(mu, sigma, dti.shape[0]))"
   ]
  },
  {
   "cell_type": "code",
   "execution_count": 84,
   "metadata": {},
   "outputs": [],
   "source": [
    "df = pd.DataFrame(s, index=dti, columns=[\"Freq_Efficency\"])"
   ]
  },
  {
   "cell_type": "code",
   "execution_count": 85,
   "metadata": {},
   "outputs": [],
   "source": [
    "data_15 = df.resample('15s').mean()\n",
    "\n",
    "data_60 = df.resample('60s').mean()"
   ]
  },
  {
   "cell_type": "code",
   "execution_count": 86,
   "metadata": {},
   "outputs": [],
   "source": [
    "data = df"
   ]
  },
  {
   "cell_type": "code",
   "execution_count": 87,
   "metadata": {},
   "outputs": [],
   "source": [
    "decrease_ratio = 0.01"
   ]
  },
  {
   "cell_type": "code",
   "execution_count": 88,
   "metadata": {},
   "outputs": [],
   "source": [
    "results_mean = np.zeros(dt_hour.shape[0]-2)\n",
    "results_p = np.zeros(dt_hour.shape[0]-2)"
   ]
  },
  {
   "cell_type": "code",
   "execution_count": 89,
   "metadata": {
    "scrolled": true
   },
   "outputs": [
    {
     "name": "stderr",
     "output_type": "stream",
     "text": [
      "100% (2399 of 2399) |####################| Elapsed Time: 0:05:34 Time:  0:05:34\n"
     ]
    }
   ],
   "source": [
    "with progressbar.ProgressBar(max_value=(dt_hour.shape[0]-2)) as bar:     \n",
    "\n",
    "    for i in range (dt_hour.shape[0]-2):        \n",
    "\n",
    "        group1 = data[(data.index > dt_hour[i]) & (data.index <= dt_hour[i+1])]        \n",
    "        group2 = data[(data.index > dt_hour[i+1]) &\\\n",
    "                         (data.index <= (dt_hour[i+1]+ pd.Timedelta('15 min')))]\n",
    "        \n",
    "        group2_all = data[(data.index > dt_hour[i+1]) & (data.index <= dt_hour[i+2])]     \n",
    "        \n",
    "        mu = group2.mean() * decrease_ratio\n",
    "        sigma = 0.5\n",
    "        s_mod = np.random.normal(mu, sigma, group2.shape[0])\n",
    "\n",
    "        group2_mod = group2 - s_mod.reshape(-1,1)\n",
    "\n",
    "        t,p,dof = ttest_ind(group1,group2_mod,\\\n",
    "                                             alternative=\"larger\",usevar = \"unequal\")\n",
    "\n",
    "        tmp_all = group1.mean() - group2_all.mean() \n",
    "        tmp = group1.mean() - group2_mod.mean()\n",
    "                \n",
    "        \n",
    "        if tmp.values > 0:\n",
    "            results_mean[i] = 1           \n",
    "           \n",
    "        results_p[i] = p\n",
    "        \n",
    "        \n",
    "        bar.update(i)"
   ]
  },
  {
   "cell_type": "code",
   "execution_count": 90,
   "metadata": {},
   "outputs": [],
   "source": [
    "error_mean = (dt_hour.shape[0] - np.sum(results_mean))/dt_hour.shape[0]"
   ]
  },
  {
   "cell_type": "code",
   "execution_count": 91,
   "metadata": {},
   "outputs": [
    {
     "name": "stdout",
     "output_type": "stream",
     "text": [
      "均值误判率: 36.23%\n"
     ]
    }
   ],
   "source": [
    "print('均值误判率: {:.2%}'.format(error_mean))"
   ]
  },
  {
   "cell_type": "code",
   "execution_count": 92,
   "metadata": {},
   "outputs": [],
   "source": [
    "test_error = np.sum(results_p < 0.05)/dt_hour.shape[0]"
   ]
  },
  {
   "cell_type": "code",
   "execution_count": 93,
   "metadata": {},
   "outputs": [
    {
     "name": "stdout",
     "output_type": "stream",
     "text": [
      "Welsh检验误判率均值误判率: 11.12%\n"
     ]
    }
   ],
   "source": [
    "print('Welsh检验误判率均值误判率: {:.2%}'.format(test_error))"
   ]
  },
  {
   "cell_type": "code",
   "execution_count": 33,
   "metadata": {},
   "outputs": [],
   "source": [
    "group1 = np.arange(7,21)\n",
    "group2 = np.arange(1,11)"
   ]
  },
  {
   "cell_type": "code",
   "execution_count": 34,
   "metadata": {},
   "outputs": [],
   "source": [
    "t,p,dof = ttest_ind(group1,group2,alternative=\"larger\",usevar = \"unequal\")"
   ]
  },
  {
   "cell_type": "code",
   "execution_count": 35,
   "metadata": {},
   "outputs": [
    {
     "data": {
      "text/plain": [
       "True"
      ]
     },
     "execution_count": 35,
     "metadata": {},
     "output_type": "execute_result"
    }
   ],
   "source": [
    "p < 0.05"
   ]
  },
  {
   "cell_type": "code",
   "execution_count": null,
   "metadata": {},
   "outputs": [],
   "source": [
    "dof"
   ]
  },
  {
   "cell_type": "code",
   "execution_count": null,
   "metadata": {},
   "outputs": [],
   "source": [
    "results_p"
   ]
  },
  {
   "cell_type": "code",
   "execution_count": null,
   "metadata": {},
   "outputs": [],
   "source": []
  }
 ],
 "metadata": {
  "kernelspec": {
   "display_name": "Python 3",
   "language": "python",
   "name": "python3"
  },
  "language_info": {
   "codemirror_mode": {
    "name": "ipython",
    "version": 3
   },
   "file_extension": ".py",
   "mimetype": "text/x-python",
   "name": "python",
   "nbconvert_exporter": "python",
   "pygments_lexer": "ipython3",
   "version": "3.7.1"
  },
  "toc": {
   "base_numbering": 1,
   "nav_menu": {},
   "number_sections": true,
   "sideBar": true,
   "skip_h1_title": false,
   "title_cell": "Table of Contents",
   "title_sidebar": "Contents",
   "toc_cell": false,
   "toc_position": {
    "height": "calc(100% - 180px)",
    "left": "10px",
    "top": "150px",
    "width": "349.091px"
   },
   "toc_section_display": true,
   "toc_window_display": false
  }
 },
 "nbformat": 4,
 "nbformat_minor": 2
}
